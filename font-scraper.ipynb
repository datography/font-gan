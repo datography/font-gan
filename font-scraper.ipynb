{
 "cells": [
  {
   "cell_type": "code",
   "execution_count": 42,
   "metadata": {},
   "outputs": [],
   "source": [
    "from bs4 import BeautifulSoup\n",
    "import urllib.request as urllib2\n",
    "import re\n",
    "import requests"
   ]
  },
  {
   "cell_type": "code",
   "execution_count": 51,
   "metadata": {},
   "outputs": [
    {
     "name": "stdout",
     "output_type": "stream",
     "text": [
      "50\n",
      "100\n",
      "150\n",
      "200\n",
      "250\n",
      "300\n",
      "350\n",
      "400\n",
      "450\n",
      "500\n",
      "550\n",
      "600\n",
      "650\n",
      "700\n",
      "750\n",
      "800\n",
      "850\n",
      "900\n",
      "950\n",
      "1000\n",
      "1050\n",
      "1100\n",
      "1150\n",
      "1200\n",
      "1250\n",
      "1300\n",
      "1350\n",
      "1400\n",
      "1450\n",
      "1500\n",
      "1550\n",
      "1600\n",
      "1650\n",
      "1700\n",
      "1750\n",
      "1800\n",
      "1850\n",
      "1900\n",
      "1950\n",
      "2000\n",
      "2050\n",
      "2100\n",
      "2150\n",
      "2200\n",
      "2250\n"
     ]
    }
   ],
   "source": [
    "full_links = list()\n",
    "for page in range(2, 2291):\n",
    "    url = f'https://www.1001freefonts.com/new-fonts-{page}.php'\n",
    "    req = urllib2.Request(url, headers={'User-Agent' : \"Magic Browser\"}) \n",
    "    con = urllib2.urlopen(req)\n",
    "    soup = BeautifulSoup(con)\n",
    "    for link in soup.findAll('a', attrs={'href': re.compile('^/d/')}):\n",
    "        links = link.get('href').split()        \n",
    "        for i in links:\n",
    "            full_link = 'https://www.1001freefonts.com' + i\n",
    "            r = requests.get(full_link, stream=True, headers={'User-agent': 'Mozilla/5.0'})\n",
    "            font_name = f'C:\\\\Users\\\\Yoga 510\\\\Desktop\\\\font-GAN\\\\data{i[8:]}'\n",
    "            with open(font_name, 'wb') as f:\n",
    "                f.write(r.content)\n",
    "            full_links.append(full_link)\n",
    "    if page % 50 == 0:\n",
    "        print(page)"
   ]
  }
 ],
 "metadata": {
  "kernelspec": {
   "display_name": "Python 3",
   "language": "python",
   "name": "python3"
  },
  "language_info": {
   "codemirror_mode": {
    "name": "ipython",
    "version": 3
   },
   "file_extension": ".py",
   "mimetype": "text/x-python",
   "name": "python",
   "nbconvert_exporter": "python",
   "pygments_lexer": "ipython3",
   "version": "3.7.3"
  }
 },
 "nbformat": 4,
 "nbformat_minor": 2
}
